{
 "cells": [
  {
   "cell_type": "code",
   "execution_count": 4,
   "metadata": {},
   "outputs": [],
   "source": [
    "import numpy as np\n",
    "import pandas as pd\n",
    "import matplotlib.pyplot as plt\n",
    "from sklearn import linear_model\n",
    "%matplotlib inline"
   ]
  },
  {
   "cell_type": "code",
   "execution_count": 5,
   "metadata": {},
   "outputs": [],
   "source": [
    "df=pd.read_csv(\"studentDetail.csv\")"
   ]
  },
  {
   "cell_type": "code",
   "execution_count": 6,
   "metadata": {},
   "outputs": [
    {
     "data": {
      "text/html": [
       "<div>\n",
       "<style scoped>\n",
       "    .dataframe tbody tr th:only-of-type {\n",
       "        vertical-align: middle;\n",
       "    }\n",
       "\n",
       "    .dataframe tbody tr th {\n",
       "        vertical-align: top;\n",
       "    }\n",
       "\n",
       "    .dataframe thead th {\n",
       "        text-align: right;\n",
       "    }\n",
       "</style>\n",
       "<table border=\"1\" class=\"dataframe\">\n",
       "  <thead>\n",
       "    <tr style=\"text-align: right;\">\n",
       "      <th></th>\n",
       "      <th>Date</th>\n",
       "      <th>name</th>\n",
       "      <th>div</th>\n",
       "      <th>roll no.</th>\n",
       "      <th>father name</th>\n",
       "      <th>mother name</th>\n",
       "      <th>School name</th>\n",
       "      <th>hobby</th>\n",
       "      <th>marks</th>\n",
       "      <th>percentage</th>\n",
       "      <th>average</th>\n",
       "    </tr>\n",
       "  </thead>\n",
       "  <tbody>\n",
       "    <tr>\n",
       "      <td>0</td>\n",
       "      <td>5/2/2021</td>\n",
       "      <td>raj</td>\n",
       "      <td>B</td>\n",
       "      <td>12</td>\n",
       "      <td>raju</td>\n",
       "      <td>rohini</td>\n",
       "      <td>save school</td>\n",
       "      <td>dance</td>\n",
       "      <td>70</td>\n",
       "      <td>70</td>\n",
       "      <td>70</td>\n",
       "    </tr>\n",
       "    <tr>\n",
       "      <td>1</td>\n",
       "      <td>9/10/2021</td>\n",
       "      <td>disha</td>\n",
       "      <td>A</td>\n",
       "      <td>13</td>\n",
       "      <td>nilesh</td>\n",
       "      <td>rekha</td>\n",
       "      <td>don bosco</td>\n",
       "      <td>sing</td>\n",
       "      <td>80</td>\n",
       "      <td>60</td>\n",
       "      <td>80</td>\n",
       "    </tr>\n",
       "    <tr>\n",
       "      <td>2</td>\n",
       "      <td>7/1/2021</td>\n",
       "      <td>tanu</td>\n",
       "      <td>C</td>\n",
       "      <td>1</td>\n",
       "      <td>naresh</td>\n",
       "      <td>sushma</td>\n",
       "      <td>sd vartak</td>\n",
       "      <td>read</td>\n",
       "      <td>60</td>\n",
       "      <td>90</td>\n",
       "      <td>67</td>\n",
       "    </tr>\n",
       "    <tr>\n",
       "      <td>3</td>\n",
       "      <td>16/8/2021</td>\n",
       "      <td>sayli</td>\n",
       "      <td>B</td>\n",
       "      <td>19</td>\n",
       "      <td>rakesh</td>\n",
       "      <td>tani</td>\n",
       "      <td>chinmaya school</td>\n",
       "      <td>write</td>\n",
       "      <td>90</td>\n",
       "      <td>84</td>\n",
       "      <td>78</td>\n",
       "    </tr>\n",
       "    <tr>\n",
       "      <td>4</td>\n",
       "      <td>7/9/2021</td>\n",
       "      <td>nita</td>\n",
       "      <td>A</td>\n",
       "      <td>20</td>\n",
       "      <td>amit</td>\n",
       "      <td>radhika</td>\n",
       "      <td>military school</td>\n",
       "      <td>paint</td>\n",
       "      <td>85</td>\n",
       "      <td>67</td>\n",
       "      <td>56</td>\n",
       "    </tr>\n",
       "  </tbody>\n",
       "</table>\n",
       "</div>"
      ],
      "text/plain": [
       "        Date   name div  roll no. father name mother name      School name  \\\n",
       "0   5/2/2021    raj   B        12        raju      rohini      save school   \n",
       "1  9/10/2021  disha   A        13      nilesh       rekha        don bosco   \n",
       "2   7/1/2021   tanu   C         1      naresh      sushma        sd vartak   \n",
       "3  16/8/2021  sayli   B        19      rakesh        tani  chinmaya school   \n",
       "4   7/9/2021   nita   A        20        amit     radhika  military school   \n",
       "\n",
       "   hobby  marks  percentage  average  \n",
       "0  dance     70          70       70  \n",
       "1   sing     80          60       80  \n",
       "2   read     60          90       67  \n",
       "3  write     90          84       78  \n",
       "4  paint     85          67       56  "
      ]
     },
     "execution_count": 6,
     "metadata": {},
     "output_type": "execute_result"
    }
   ],
   "source": [
    "df.head()"
   ]
  },
  {
   "cell_type": "code",
   "execution_count": 7,
   "metadata": {},
   "outputs": [
    {
     "name": "stdout",
     "output_type": "stream",
     "text": [
      "<class 'pandas.core.frame.DataFrame'>\n",
      "RangeIndex: 5 entries, 0 to 4\n",
      "Data columns (total 11 columns):\n",
      "Date           5 non-null object\n",
      "name           5 non-null object\n",
      "div            5 non-null object\n",
      "roll no.       5 non-null int64\n",
      "father name    5 non-null object\n",
      "mother name    5 non-null object\n",
      "School name    5 non-null object\n",
      "hobby          5 non-null object\n",
      "marks          5 non-null int64\n",
      "percentage     5 non-null int64\n",
      "average        5 non-null int64\n",
      "dtypes: int64(4), object(7)\n",
      "memory usage: 568.0+ bytes\n"
     ]
    }
   ],
   "source": [
    "df.info()"
   ]
  },
  {
   "cell_type": "code",
   "execution_count": 9,
   "metadata": {},
   "outputs": [],
   "source": [
    "df['Date'] = pd.to_datetime(df['Date'], utc=True)\n",
    "df.set_index('Date', inplace= True)"
   ]
  },
  {
   "cell_type": "code",
   "execution_count": 10,
   "metadata": {},
   "outputs": [
    {
     "data": {
      "text/html": [
       "<div>\n",
       "<style scoped>\n",
       "    .dataframe tbody tr th:only-of-type {\n",
       "        vertical-align: middle;\n",
       "    }\n",
       "\n",
       "    .dataframe tbody tr th {\n",
       "        vertical-align: top;\n",
       "    }\n",
       "\n",
       "    .dataframe thead th {\n",
       "        text-align: right;\n",
       "    }\n",
       "</style>\n",
       "<table border=\"1\" class=\"dataframe\">\n",
       "  <thead>\n",
       "    <tr style=\"text-align: right;\">\n",
       "      <th></th>\n",
       "      <th>name</th>\n",
       "      <th>div</th>\n",
       "      <th>roll no.</th>\n",
       "      <th>father name</th>\n",
       "      <th>mother name</th>\n",
       "      <th>School name</th>\n",
       "      <th>hobby</th>\n",
       "      <th>marks</th>\n",
       "      <th>percentage</th>\n",
       "      <th>average</th>\n",
       "    </tr>\n",
       "    <tr>\n",
       "      <th>Date</th>\n",
       "      <th></th>\n",
       "      <th></th>\n",
       "      <th></th>\n",
       "      <th></th>\n",
       "      <th></th>\n",
       "      <th></th>\n",
       "      <th></th>\n",
       "      <th></th>\n",
       "      <th></th>\n",
       "      <th></th>\n",
       "    </tr>\n",
       "  </thead>\n",
       "  <tbody>\n",
       "    <tr>\n",
       "      <td>2021-05-02 00:00:00+00:00</td>\n",
       "      <td>raj</td>\n",
       "      <td>B</td>\n",
       "      <td>12</td>\n",
       "      <td>raju</td>\n",
       "      <td>rohini</td>\n",
       "      <td>save school</td>\n",
       "      <td>dance</td>\n",
       "      <td>70</td>\n",
       "      <td>70</td>\n",
       "      <td>70</td>\n",
       "    </tr>\n",
       "    <tr>\n",
       "      <td>2021-09-10 00:00:00+00:00</td>\n",
       "      <td>disha</td>\n",
       "      <td>A</td>\n",
       "      <td>13</td>\n",
       "      <td>nilesh</td>\n",
       "      <td>rekha</td>\n",
       "      <td>don bosco</td>\n",
       "      <td>sing</td>\n",
       "      <td>80</td>\n",
       "      <td>60</td>\n",
       "      <td>80</td>\n",
       "    </tr>\n",
       "    <tr>\n",
       "      <td>2021-07-01 00:00:00+00:00</td>\n",
       "      <td>tanu</td>\n",
       "      <td>C</td>\n",
       "      <td>1</td>\n",
       "      <td>naresh</td>\n",
       "      <td>sushma</td>\n",
       "      <td>sd vartak</td>\n",
       "      <td>read</td>\n",
       "      <td>60</td>\n",
       "      <td>90</td>\n",
       "      <td>67</td>\n",
       "    </tr>\n",
       "    <tr>\n",
       "      <td>2021-08-16 00:00:00+00:00</td>\n",
       "      <td>sayli</td>\n",
       "      <td>B</td>\n",
       "      <td>19</td>\n",
       "      <td>rakesh</td>\n",
       "      <td>tani</td>\n",
       "      <td>chinmaya school</td>\n",
       "      <td>write</td>\n",
       "      <td>90</td>\n",
       "      <td>84</td>\n",
       "      <td>78</td>\n",
       "    </tr>\n",
       "    <tr>\n",
       "      <td>2021-07-09 00:00:00+00:00</td>\n",
       "      <td>nita</td>\n",
       "      <td>A</td>\n",
       "      <td>20</td>\n",
       "      <td>amit</td>\n",
       "      <td>radhika</td>\n",
       "      <td>military school</td>\n",
       "      <td>paint</td>\n",
       "      <td>85</td>\n",
       "      <td>67</td>\n",
       "      <td>56</td>\n",
       "    </tr>\n",
       "  </tbody>\n",
       "</table>\n",
       "</div>"
      ],
      "text/plain": [
       "                            name div  roll no. father name mother name  \\\n",
       "Date                                                                     \n",
       "2021-05-02 00:00:00+00:00    raj   B        12        raju      rohini   \n",
       "2021-09-10 00:00:00+00:00  disha   A        13      nilesh       rekha   \n",
       "2021-07-01 00:00:00+00:00   tanu   C         1      naresh      sushma   \n",
       "2021-08-16 00:00:00+00:00  sayli   B        19      rakesh        tani   \n",
       "2021-07-09 00:00:00+00:00   nita   A        20        amit     radhika   \n",
       "\n",
       "                               School name  hobby  marks  percentage  average  \n",
       "Date                                                                           \n",
       "2021-05-02 00:00:00+00:00      save school  dance     70          70       70  \n",
       "2021-09-10 00:00:00+00:00        don bosco   sing     80          60       80  \n",
       "2021-07-01 00:00:00+00:00        sd vartak   read     60          90       67  \n",
       "2021-08-16 00:00:00+00:00  chinmaya school  write     90          84       78  \n",
       "2021-07-09 00:00:00+00:00  military school  paint     85          67       56  "
      ]
     },
     "execution_count": 10,
     "metadata": {},
     "output_type": "execute_result"
    }
   ],
   "source": [
    "df.head()"
   ]
  },
  {
   "cell_type": "code",
   "execution_count": 14,
   "metadata": {},
   "outputs": [],
   "source": [
    "df1 = df[['marks', 'average']] \n",
    "df2 = df1.resample('M').mean()"
   ]
  },
  {
   "cell_type": "code",
   "execution_count": 15,
   "metadata": {},
   "outputs": [
    {
     "data": {
      "text/html": [
       "<div>\n",
       "<style scoped>\n",
       "    .dataframe tbody tr th:only-of-type {\n",
       "        vertical-align: middle;\n",
       "    }\n",
       "\n",
       "    .dataframe tbody tr th {\n",
       "        vertical-align: top;\n",
       "    }\n",
       "\n",
       "    .dataframe thead th {\n",
       "        text-align: right;\n",
       "    }\n",
       "</style>\n",
       "<table border=\"1\" class=\"dataframe\">\n",
       "  <thead>\n",
       "    <tr style=\"text-align: right;\">\n",
       "      <th></th>\n",
       "      <th>marks</th>\n",
       "      <th>average</th>\n",
       "    </tr>\n",
       "    <tr>\n",
       "      <th>Date</th>\n",
       "      <th></th>\n",
       "      <th></th>\n",
       "    </tr>\n",
       "  </thead>\n",
       "  <tbody>\n",
       "    <tr>\n",
       "      <td>2021-05-31 00:00:00+00:00</td>\n",
       "      <td>70.0</td>\n",
       "      <td>70.0</td>\n",
       "    </tr>\n",
       "    <tr>\n",
       "      <td>2021-06-30 00:00:00+00:00</td>\n",
       "      <td>NaN</td>\n",
       "      <td>NaN</td>\n",
       "    </tr>\n",
       "    <tr>\n",
       "      <td>2021-07-31 00:00:00+00:00</td>\n",
       "      <td>72.5</td>\n",
       "      <td>61.5</td>\n",
       "    </tr>\n",
       "    <tr>\n",
       "      <td>2021-08-31 00:00:00+00:00</td>\n",
       "      <td>90.0</td>\n",
       "      <td>78.0</td>\n",
       "    </tr>\n",
       "    <tr>\n",
       "      <td>2021-09-30 00:00:00+00:00</td>\n",
       "      <td>80.0</td>\n",
       "      <td>80.0</td>\n",
       "    </tr>\n",
       "  </tbody>\n",
       "</table>\n",
       "</div>"
      ],
      "text/plain": [
       "                           marks  average\n",
       "Date                                     \n",
       "2021-05-31 00:00:00+00:00   70.0     70.0\n",
       "2021-06-30 00:00:00+00:00    NaN      NaN\n",
       "2021-07-31 00:00:00+00:00   72.5     61.5\n",
       "2021-08-31 00:00:00+00:00   90.0     78.0\n",
       "2021-09-30 00:00:00+00:00   80.0     80.0"
      ]
     },
     "execution_count": 15,
     "metadata": {},
     "output_type": "execute_result"
    }
   ],
   "source": [
    "df2.head()"
   ]
  },
  {
   "cell_type": "code",
   "execution_count": 16,
   "metadata": {},
   "outputs": [
    {
     "data": {
      "text/plain": [
       "<matplotlib.axes._subplots.AxesSubplot at 0x1d040286bc8>"
      ]
     },
     "execution_count": 16,
     "metadata": {},
     "output_type": "execute_result"
    },
    {
     "data": {
      "image/png": "[encoded data removed]",
      "text/plain": [
       "<Figure size 1008x432 with 1 Axes>"
      ]
     },
     "metadata": {
      "needs_background": "light"
     },
     "output_type": "display_data"
    }
   ],
   "source": [
    "import seaborn as sns\n",
    "\n",
    "import warnings\n",
    "\n",
    "warnings.filterwarnings (\"ignore\") \n",
    "plt.figure (figsize=(14,6))\n",
    "\n",
    "plt.title (\"Variation in average and marks\")\n",
    "sns. lineplot (data=df2)"
   ]
  },
  {
   "cell_type": "code",
   "execution_count": 17,
   "metadata": {},
   "outputs": [
    {
     "name": "stdout",
     "output_type": "stream",
     "text": [
      "Empty DataFrame\n",
      "Columns: [marks, average]\n",
      "Index: []\n"
     ]
    },
    {
     "data": {
      "text/plain": [
       "marks      float64\n",
       "average    float64\n",
       "dtype: object"
      ]
     },
     "execution_count": 17,
     "metadata": {},
     "output_type": "execute_result"
    }
   ],
   "source": [
    "df3 = df2[df2.index.month==4] \n",
    "print (df3) \n",
    "df3.dtypes"
   ]
  },
  {
   "cell_type": "code",
   "execution_count": 20,
   "metadata": {},
   "outputs": [
    {
     "data": {
      "text/plain": [
       "Text(0.5, 0, 'Month of April')"
      ]
     },
     "execution_count": 20,
     "metadata": {},
     "output_type": "execute_result"
    },
    {
     "data": {
      "image/png": "[encoded data removed]",
      "text/plain": [
       "<Figure size 1080x360 with 1 Axes>"
      ]
     },
     "metadata": {
      "needs_background": "light"
     },
     "output_type": "display_data"
    }
   ],
   "source": [
    "import matplotlib.dates as mdates\n",
    "\n",
    "fig, ax = plt.subplots(figsize=(15,5)) \n",
    "ax.plot(df3.loc['2006-04-01':'2016-04-01', 'marks'], marker='o', linestyle='-', \n",
    "        label='average') \n",
    "ax.plot(df3.loc['2006-04-01':'2016-04-01', 'average'], marker='o', linestyle='-', label='average')\n",
    "\n",
    "ax.set_xticks(['04-01-2006', '04-01-2007', '04-01-2008', '04-01-2009', '04-01-2010','04-01-2011', '04-01-2012',\n",
    "               '04-01-2013','04-01-2014','04-01-2015','04-01-2016'])\n",
    "ax.xaxis.set_major_formatter (mdates.DateFormatter('%d %m %y'))                     \n",
    "ax.legend(loc='center right')\n",
    "ax.set_xlabel('Month of April')"
   ]
  },
  {
   "cell_type": "code",
   "execution_count": null,
   "metadata": {},
   "outputs": [],
   "source": []
  }
 ],
 "metadata": {
  "kernelspec": {
   "display_name": "Python 3",
   "language": "python",
   "name": "python3"
  },
  "language_info": {
   "codemirror_mode": {
    "name": "ipython",
    "version": 3
   },
   "file_extension": ".py",
   "mimetype": "text/x-python",
   "name": "python",
   "nbconvert_exporter": "python",
   "pygments_lexer": "ipython3",
   "version": "3.7.4"
  }
 },
 "nbformat": 4,
 "nbformat_minor": 2
}
